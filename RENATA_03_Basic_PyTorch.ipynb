{
  "cells": [
    {
      "cell_type": "markdown",
      "metadata": {
        "id": "view-in-github",
        "colab_type": "text"
      },
      "source": [
        "<a href=\"https://colab.research.google.com/github/renatampr/https-github.com-renatampr-topicos_contemporaneos--CESAR-EAD-2024/blob/main/RENATA_03_Basic_PyTorch.ipynb\" target=\"_parent\"><img src=\"https://colab.research.google.com/assets/colab-badge.svg\" alt=\"Open In Colab\"/></a>"
      ]
    },
    {
      "cell_type": "code",
      "execution_count": 1,
      "metadata": {
        "id": "XX_tjyzP07Av"
      },
      "outputs": [],
      "source": [
        "# Importando PyTorch\n",
        "import torch"
      ]
    },
    {
      "cell_type": "markdown",
      "metadata": {
        "id": "V5VKRG-K07Ay"
      },
      "source": [
         "### Aluna: Renata Pereira rmbp@cesar.school\n",
        "\n",        
        "# Introdução ao PyTorch\n",
        "\n",
        "## O que é PyTorch?\n",
        "PyTorch é uma biblioteca de aprendizado profundo de código aberto desenvolvida pelo Facebook's AI Research lab (FAIR). Ela é amplamente utilizada para tarefas de visão computacional e processamento de linguagem natural."
      ]
    },
    {
      "cell_type": "markdown",
      "metadata": {
        "id": "7hY0K04B07A0"
      },
      "source": [
        "### História e contexto\n",
        "PyTorch foi lançado em janeiro de 2017. Ele é baseado na biblioteca Torch, que é uma estrutura de aprendizado de máquina em Lua. PyTorch é conhecido por sua facilidade de uso e integração com Python, o que o torna popular entre pesquisadores e engenheiros.\n",
        "\n",
        "### Comparação com outras bibliotecas\n",
        "- **TensorFlow**: Desenvolvido pelo Google, TensorFlow é uma das bibliotecas de aprendizado profundo mais populares. Enquanto TensorFlow é conhecido por sua escalabilidade e produção, PyTorch é elogiado por sua facilidade de uso e flexibilidade.\n",
        "- **NumPy**: NumPy é uma biblioteca fundamental para computação científica em Python. PyTorch usa tensores, que são similares aos arrays do NumPy, mas com suporte para computação em GPU."
      ]
    },
    {
      "cell_type": "markdown",
      "metadata": {
        "id": "JqJ6JLpI07A0"
      },
      "source": [
        "## O que são tensores?\n",
        "Tensores são a estrutura de dados fundamental em PyTorch. Eles são similares aos arrays do NumPy, mas com suporte para computação em GPU.\n",
        "\n",
        "Tensores 1D, 2D, 3D, etc.\n",
        "- 1D: Vetores\n",
        "- 2D: Matrizes\n",
        "- 3D: Matrizes tridimensionais (cubos de dados)\n",
        "- ND: Tensores de N dimensões"
      ]
    },
    {
      "cell_type": "code",
      "execution_count": 2,
      "metadata": {
        "id": "K5Awe-l_07A1",
        "colab": {
          "base_uri": "https://localhost:8080/"
        },
        "outputId": "3fcdcb11-a112-45f2-a76e-6c84f3a65c59"
      },
      "outputs": [
        {
          "output_type": "stream",
          "name": "stdout",
          "text": [
            "tensor([1, 2, 3, 4])\n"
          ]
        }
      ],
      "source": [
        "# Tensor 1D\n",
        "tensor_1d = torch.tensor([1, 2, 3, 4])\n",
        "print(tensor_1d)"
      ]
    },
    {
      "cell_type": "code",
      "execution_count": 11,
      "metadata": {
        "id": "-TRadvnK07A1",
        "colab": {
          "base_uri": "https://localhost:8080/"
        },
        "outputId": "9210c1e0-02df-4dd0-b668-950a06cb0550"
      },
      "outputs": [
        {
          "output_type": "stream",
          "name": "stdout",
          "text": [
            "tensor([[1, 2, 3],\n",
            "        [4, 5, 6]])\n"
          ]
        }
      ],
      "source": [
        "# Tensor 2D\n",
        "tensor_2d = torch.tensor([[1, 2, 3], [4, 5, 6]])\n",
        "print(tensor_2d)"
      ]
    },
    {
      "cell_type": "code",
      "execution_count": 3,
      "metadata": {
        "id": "UFNjXxIV07A2",
        "colab": {
          "base_uri": "https://localhost:8080/"
        },
        "outputId": "1f95f17a-875c-4ba4-c67b-ffe5c0a2233a"
      },
      "outputs": [
        {
          "output_type": "stream",
          "name": "stdout",
          "text": [
            "tensor([[[1, 2],\n",
            "         [3, 4]],\n",
            "\n",
            "        [[5, 6],\n",
            "         [7, 8]]])\n"
          ]
        }
      ],
      "source": [
        "# Tensor 3D\n",
        "tensor_3d = torch.tensor([[[1, 2], [3, 4]], [[5, 6], [7, 8]]])\n",
        "print(tensor_3d)"
      ]
    },
    {
      "cell_type": "markdown",
      "metadata": {
        "id": "jRc4gME107A2"
      },
      "source": [
        "### Tipos de dados\n",
        "Os tensores em PyTorch suportam vários tipos de dados, como inteiros e floats. O tipo de dado pode ser especificado durante a criação do tensor."
      ]
    },
    {
      "cell_type": "code",
      "execution_count": 4,
      "metadata": {
        "id": "o7xS6AjB07A3",
        "colab": {
          "base_uri": "https://localhost:8080/"
        },
        "outputId": "c9842058-8022-48d6-e775-f94902d8f2f1"
      },
      "outputs": [
        {
          "output_type": "stream",
          "name": "stdout",
          "text": [
            "tensor([1, 2, 3], dtype=torch.int32)\n"
          ]
        }
      ],
      "source": [
        "# Criação de um tensor de inteiros\n",
        "tensor_int = torch.tensor([1, 2, 3], dtype=torch.int32)\n",
        "print(tensor_int)"
      ]
    },
    {
      "cell_type": "code",
      "execution_count": 5,
      "metadata": {
        "id": "VTZb3MMZ07A3",
        "colab": {
          "base_uri": "https://localhost:8080/"
        },
        "outputId": "8358e9af-5f85-4b0b-a05e-fdf9f1fd9f8f"
      },
      "outputs": [
        {
          "output_type": "stream",
          "name": "stdout",
          "text": [
            "tensor([1., 2., 3.])\n"
          ]
        }
      ],
      "source": [
        "# Criação de um tensor de floats\n",
        "tensor_float = torch.tensor([1.0, 2.0, 3.0], dtype=torch.float32)\n",
        "print(tensor_float)"
      ]
    },
    {
      "cell_type": "markdown",
      "metadata": {
        "id": "BhitTwTw07A4"
      },
      "source": [
        "## Funções de Criação de Tensores\n",
        "PyTorch fornece várias funções utilitárias para criar tensores de forma eficiente.\n",
        "\n",
        "- `torch.zeros`: Cria um tensor preenchido com zeros.\n",
        "- `torch.zeros_like`: Cria um tensor preenchido com zeros, com as mesmas dimensões de um tensor dado.\n",
        "- `torch.ones`: Cria um tensor preenchido com uns.\n",
        "- `torch.ones_like`: Cria um tensor preenchido com uns, com as mesmas dimensões de um tensor dado.\n",
        "- `torch.linspace`: Cria um tensor com valores linearmente espaçados entre dois pontos.\n",
        "- `torch.arange`: Cria um tensor com valores em uma faixa específica com um passo definido."
      ]
    },
    {
      "cell_type": "code",
      "execution_count": 9,
      "metadata": {
        "id": "CfDt8Tel07A4",
        "colab": {
          "base_uri": "https://localhost:8080/"
        },
        "outputId": "a59cd61e-41b9-4295-ae24-9bd7e109b4e2"
      },
      "outputs": [
        {
          "output_type": "stream",
          "name": "stdout",
          "text": [
            "tensor([[[0., 0., 0., 0., 0.],\n",
            "         [0., 0., 0., 0., 0.],\n",
            "         [0., 0., 0., 0., 0.]],\n",
            "\n",
            "        [[0., 0., 0., 0., 0.],\n",
            "         [0., 0., 0., 0., 0.],\n",
            "         [0., 0., 0., 0., 0.]],\n",
            "\n",
            "        [[0., 0., 0., 0., 0.],\n",
            "         [0., 0., 0., 0., 0.],\n",
            "         [0., 0., 0., 0., 0.]]])\n"
          ]
        }
      ],
      "source": [
        "# Criação de tensores de zeros\n",
        "tensor_zeros = torch.zeros(3, 3, 5)\n",
        "print(tensor_zeros)"
      ]
    },
    {
      "cell_type": "code",
      "execution_count": 12,
      "metadata": {
        "id": "C7nGxikn07A4",
        "colab": {
          "base_uri": "https://localhost:8080/"
        },
        "outputId": "58fc94ad-148d-4331-e698-fd1f2ead6de3"
      },
      "outputs": [
        {
          "output_type": "stream",
          "name": "stdout",
          "text": [
            "tensor([[0, 0, 0],\n",
            "        [0, 0, 0]])\n"
          ]
        }
      ],
      "source": [
        "# Criação de tensores de zeros_like\n",
        "tensor_zeros_like = torch.zeros_like(tensor_2d)\n",
        "print(tensor_zeros_like)"
      ]
    },
    {
      "cell_type": "code",
      "execution_count": 13,
      "metadata": {
        "id": "zRohYGbV07A5",
        "colab": {
          "base_uri": "https://localhost:8080/"
        },
        "outputId": "6d9df4cf-b031-4288-b4fe-1bf47e436471"
      },
      "outputs": [
        {
          "output_type": "stream",
          "name": "stdout",
          "text": [
            "tensor([[1., 1.],\n",
            "        [1., 1.]])\n"
          ]
        }
      ],
      "source": [
        "# Criação de tensores de uns\n",
        "tensor_ones = torch.ones(2, 2)\n",
        "print(tensor_ones)"
      ]
    },
    {
      "cell_type": "code",
      "execution_count": 14,
      "metadata": {
        "id": "5HN8Z9Ny07A5",
        "colab": {
          "base_uri": "https://localhost:8080/"
        },
        "outputId": "426da362-1036-4188-a83f-b5cd912677e5"
      },
      "outputs": [
        {
          "output_type": "stream",
          "name": "stdout",
          "text": [
            "tensor([[1, 1, 1],\n",
            "        [1, 1, 1]])\n"
          ]
        }
      ],
      "source": [
        "# Criação de tensores de ones_like\n",
        "tensor_ones_like = torch.ones_like(tensor_2d)\n",
        "print(tensor_ones_like)"
      ]
    },
    {
      "cell_type": "code",
      "execution_count": 15,
      "metadata": {
        "id": "d4SJMaPG07A5",
        "colab": {
          "base_uri": "https://localhost:8080/"
        },
        "outputId": "adfe1f87-58b6-47cf-9913-aaa88257a8c6"
      },
      "outputs": [
        {
          "output_type": "stream",
          "name": "stdout",
          "text": [
            "tensor([ 0.0000,  2.5000,  5.0000,  7.5000, 10.0000])\n"
          ]
        }
      ],
      "source": [
        "# Linspace\n",
        "tensor_linspace = torch.linspace(0, 10, steps=5)\n",
        "print(tensor_linspace)"
      ]
    },
    {
      "cell_type": "code",
      "execution_count": 16,
      "metadata": {
        "id": "SU6Dv1HR07A5",
        "colab": {
          "base_uri": "https://localhost:8080/"
        },
        "outputId": "4498892b-9362-46cc-d106-a093822e73e6"
      },
      "outputs": [
        {
          "output_type": "stream",
          "name": "stdout",
          "text": [
            "tensor([0.0000, 2.5000, 5.0000, 7.5000])\n"
          ]
        }
      ],
      "source": [
        "# Arange\n",
        "tensor_arange = torch.arange(0, 10, step=2.5)\n",
        "print(tensor_arange)"
      ]
    },
    {
      "cell_type": "markdown",
      "metadata": {
        "id": "1tn4op3Z07A5"
      },
      "source": [
        "## Indexação e Fatiamento\n",
        "A indexação e o fatiamento em PyTorch são similares ao NumPy, permitindo acessar e modificar partes específicas de um tensor."
      ]
    },
    {
      "cell_type": "code",
      "execution_count": 17,
      "metadata": {
        "id": "AMawCabk07A5",
        "colab": {
          "base_uri": "https://localhost:8080/"
        },
        "outputId": "fbd7da7a-295b-4163-874e-78dc4498f694"
      },
      "outputs": [
        {
          "output_type": "stream",
          "name": "stdout",
          "text": [
            "Tensor original:\n",
            " tensor([[1, 2, 3],\n",
            "        [4, 5, 6],\n",
            "        [7, 8, 9]])\n"
          ]
        }
      ],
      "source": [
        "# Criando um tensor de exemplo\n",
        "tensor = torch.tensor([[1, 2, 3], [4, 5, 6], [7, 8, 9]])\n",
        "print(\"Tensor original:\\n\", tensor)"
      ]
    },
    {
      "cell_type": "code",
      "execution_count": 18,
      "metadata": {
        "id": "1_LT0CdV07A6",
        "colab": {
          "base_uri": "https://localhost:8080/"
        },
        "outputId": "9fec82aa-ab83-477d-f935-688299f5caf3"
      },
      "outputs": [
        {
          "output_type": "stream",
          "name": "stdout",
          "text": [
            "Elemento na posição [1, 2]: tensor(6)\n"
          ]
        }
      ],
      "source": [
        "# Indexação por elementos específicos\n",
        "print(\"Elemento na posição [1, 2]:\", tensor[1, 2])  # Acessa o valor '6'"
      ]
    },
    {
      "cell_type": "code",
      "execution_count": 19,
      "metadata": {
        "id": "DKfbkDwi07A6",
        "colab": {
          "base_uri": "https://localhost:8080/"
        },
        "outputId": "286edf3d-e3f6-427c-ca99-d82a47fa048b"
      },
      "outputs": [
        {
          "output_type": "stream",
          "name": "stdout",
          "text": [
            "Primeira linha: tensor([1, 2, 3])\n",
            "Segunda coluna: tensor([2, 5, 8])\n"
          ]
        }
      ],
      "source": [
        "# Indexação\n",
        "print(\"Primeira linha:\", tensor[0, :])  # Obtendo a primeira linha\n",
        "print(\"Segunda coluna:\", tensor[:, 1])  # Obtendo a segunda coluna"
      ]
    },
    {
      "cell_type": "code",
      "execution_count": 20,
      "metadata": {
        "id": "vqTJlBA407A6",
        "colab": {
          "base_uri": "https://localhost:8080/"
        },
        "outputId": "214f7446-c1ce-451a-ad0e-3db6201c7d1c"
      },
      "outputs": [
        {
          "output_type": "stream",
          "name": "stdout",
          "text": [
            "Subtensor a partir da segunda linha e segunda coluna:\n",
            " tensor([[5, 6],\n",
            "        [8, 9]])\n"
          ]
        }
      ],
      "source": [
        "# Fatiamento\n",
        "print(\"Subtensor a partir da segunda linha e segunda coluna:\\n\", tensor[1:, 1:])"
      ]
    },
    {
      "cell_type": "code",
      "execution_count": 21,
      "metadata": {
        "id": "zJ2_xcS407A6",
        "colab": {
          "base_uri": "https://localhost:8080/"
        },
        "outputId": "66a63b7b-f091-4077-8723-ea6eaac24682"
      },
      "outputs": [
        {
          "output_type": "stream",
          "name": "stdout",
          "text": [
            "Subtensor pulando uma linha e uma coluna:\n",
            " tensor([[1, 3],\n",
            "        [7, 9]])\n"
          ]
        }
      ],
      "source": [
        "# Exemplo de fatiamento complexo: pulando elementos\n",
        "print(\"Subtensor pulando uma linha e uma coluna:\\n\", tensor[::2, ::2])  # Pulando linhas e colunas"
      ]
    },
    {
      "cell_type": "code",
      "execution_count": 22,
      "metadata": {
        "id": "-dGwqF0c07A6",
        "colab": {
          "base_uri": "https://localhost:8080/"
        },
        "outputId": "f24762aa-1aa4-458f-f9ce-93108d8c4abf"
      },
      "outputs": [
        {
          "output_type": "stream",
          "name": "stdout",
          "text": [
            "Última linha do tensor: tensor([7, 8, 9])\n",
            "Última coluna do tensor: tensor([3, 6, 9])\n"
          ]
        }
      ],
      "source": [
        "# Fatiamento com valores negativos\n",
        "print(\"Última linha do tensor:\", tensor[-1, :])  # Acessando a última linha\n",
        "print(\"Última coluna do tensor:\", tensor[:, -1])  # Acessando a última coluna"
      ]
    },
    {
      "cell_type": "markdown",
      "metadata": {
        "id": "3Dr2q8wu07A6"
      },
      "source": [
        "## Operações básicas com tensores\n",
        "PyTorch suporta várias operações básicas com tensores, como adição, multiplicação, subtração e divisão."
      ]
    },
    {
      "cell_type": "code",
      "execution_count": 23,
      "metadata": {
        "id": "01kLt4WP07A6",
        "colab": {
          "base_uri": "https://localhost:8080/"
        },
        "outputId": "f08e12f2-4b31-40dd-9688-0ad365b1853b"
      },
      "outputs": [
        {
          "output_type": "stream",
          "name": "stdout",
          "text": [
            "+ tensor([5, 7, 9])\n",
            "* tensor([ 4, 10, 18])\n",
            "- tensor([-3, -3, -3])\n",
            "/ tensor([0.2500, 0.4000, 0.5000])\n",
            "Produto escalar tensor(32)\n"
          ]
        }
      ],
      "source": [
        "a = torch.tensor([1, 2, 3])\n",
        "b = torch.tensor([4, 5, 6])\n",
        "\n",
        "# Adição\n",
        "print(\"+\", a + b)\n",
        "\n",
        "# Multiplicação\n",
        "print(\"*\", a * b)\n",
        "\n",
        "# Subtração\n",
        "print(\"-\", a - b)\n",
        "\n",
        "# Divisão\n",
        "print(\"/\", a / b)\n",
        "\n",
        "# Produto escalar\n",
        "dot_product = torch.dot(a, b)\n",
        "print(\"Produto escalar\", dot_product)"
      ]
    },
    {
      "cell_type": "markdown",
      "metadata": {
        "id": "qNFxTzvk07A7"
      },
      "source": [
        "## Manipulando formato (shape)"
      ]
    },
    {
      "cell_type": "code",
      "execution_count": 24,
      "metadata": {
        "id": "Mgam2anH07A8",
        "colab": {
          "base_uri": "https://localhost:8080/"
        },
        "outputId": "76346b1f-b5f2-43bd-a5d7-ba3a008fa3bd"
      },
      "outputs": [
        {
          "output_type": "stream",
          "name": "stdout",
          "text": [
            "tensor([[ 0,  1,  2],\n",
            "        [ 3,  4,  5],\n",
            "        [ 6,  7,  8],\n",
            "        [ 9, 10, 11]])\n"
          ]
        }
      ],
      "source": [
        "tensor = torch.arange(12).reshape(4, 3)\n",
        "print(tensor)"
      ]
    },
    {
      "cell_type": "code",
      "execution_count": 25,
      "metadata": {
        "id": "j0VUa3Nn07A8",
        "colab": {
          "base_uri": "https://localhost:8080/"
        },
        "outputId": "e6958197-7782-4af6-e987-820056122fa2"
      },
      "outputs": [
        {
          "output_type": "stream",
          "name": "stdout",
          "text": [
            "tensor([[ 0,  1],\n",
            "        [ 2,  3],\n",
            "        [ 4,  5],\n",
            "        [ 6,  7],\n",
            "        [ 8,  9],\n",
            "        [10, 11]])\n"
          ]
        }
      ],
      "source": [
        "# View\n",
        "tensor_reshaped = tensor.view(6, 2)\n",
        "print(tensor_reshaped)"
      ]
    },
    {
      "cell_type": "code",
      "execution_count": 26,
      "metadata": {
        "id": "hHvvAow507A8",
        "colab": {
          "base_uri": "https://localhost:8080/"
        },
        "outputId": "8a96b3dc-3161-475a-8731-31b53fe2917e"
      },
      "outputs": [
        {
          "output_type": "stream",
          "name": "stdout",
          "text": [
            "tensor([[ 0,  3,  6,  9],\n",
            "        [ 1,  4,  7, 10],\n",
            "        [ 2,  5,  8, 11]])\n"
          ]
        }
      ],
      "source": [
        "# Transpose\n",
        "tensor_transposed = tensor.t()\n",
        "print(tensor_transposed)"
      ]
    },
    {
      "cell_type": "markdown",
      "metadata": {
        "id": "NWXY-p2307A8"
      },
      "source": [
        "### Flatten\n",
        "A função flatten retorna um tensor 1D contendo todos os elementos do tensor original"
      ]
    },
    {
      "cell_type": "code",
      "execution_count": 27,
      "metadata": {
        "id": "B1s-_Xfg07A9",
        "colab": {
          "base_uri": "https://localhost:8080/"
        },
        "outputId": "9d3c8896-4806-4152-d81e-d2be59fb2513"
      },
      "outputs": [
        {
          "output_type": "stream",
          "name": "stdout",
          "text": [
            "tensor([ 0,  1,  2,  3,  4,  5,  6,  7,  8,  9, 10, 11])\n"
          ]
        }
      ],
      "source": [
        "# Flatten\n",
        "tensor_flattened = tensor.flatten()\n",
        "print(tensor_flattened)"
      ]
    },
    {
      "cell_type": "code",
      "execution_count": 28,
      "metadata": {
        "id": "PDFJoaph07A9",
        "colab": {
          "base_uri": "https://localhost:8080/"
        },
        "outputId": "44ea9dcd-54a0-4319-bb81-bb1a559ed0f5"
      },
      "outputs": [
        {
          "output_type": "stream",
          "name": "stdout",
          "text": [
            "tensor([[[[ 0],\n",
            "          [ 1],\n",
            "          [ 2],\n",
            "          [ 3],\n",
            "          [ 4],\n",
            "          [ 5]],\n",
            "\n",
            "         [[ 6],\n",
            "          [ 7],\n",
            "          [ 8],\n",
            "          [ 9],\n",
            "          [10],\n",
            "          [11]]]])\n",
            "torch.Size([1, 2, 6, 1])\n"
          ]
        }
      ],
      "source": [
        "# Reshape\n",
        "tensor_reshaped = tensor.reshape(1, 2, 6, 1)\n",
        "print(tensor_reshaped)\n",
        "print(tensor_reshaped.shape)"
      ]
    },
    {
      "cell_type": "markdown",
      "metadata": {
        "id": "slriaEuA07A9"
      },
      "source": [
        "### Squeeze e Unsqueeze\n",
        "- `squeeze`: Remove dimensões de tamanho 1 de um tensor.\n",
        "- `unsqueeze`: Adiciona uma dimensão de tamanho 1 em um tensor."
      ]
    },
    {
      "cell_type": "code",
      "execution_count": 29,
      "metadata": {
        "id": "t765bMFc07A9",
        "colab": {
          "base_uri": "https://localhost:8080/"
        },
        "outputId": "9de9f6d7-b55f-4856-d039-682dcccd3cee"
      },
      "outputs": [
        {
          "output_type": "stream",
          "name": "stdout",
          "text": [
            "tensor([[ 0,  1,  2,  3,  4,  5],\n",
            "        [ 6,  7,  8,  9, 10, 11]])\n",
            "torch.Size([2, 6])\n"
          ]
        }
      ],
      "source": [
        "# Squeeze\n",
        "tensor_squeezed = tensor_reshaped.squeeze()\n",
        "print(tensor_squeezed)\n",
        "print(tensor_squeezed.shape)"
      ]
    },
    {
      "cell_type": "code",
      "execution_count": 30,
      "metadata": {
        "id": "foABWOkB07A-",
        "colab": {
          "base_uri": "https://localhost:8080/"
        },
        "outputId": "a9e720a0-6b51-4240-a77f-aa66b0ec15c9"
      },
      "outputs": [
        {
          "output_type": "stream",
          "name": "stdout",
          "text": [
            "tensor([[[ 0,  1,  2,  3,  4,  5],\n",
            "         [ 6,  7,  8,  9, 10, 11]]])\n",
            "torch.Size([1, 2, 6])\n"
          ]
        }
      ],
      "source": [
        "# Unsqueeze\n",
        "tensor_unsqueezed = tensor_squeezed.unsqueeze(dim=0)\n",
        "print(tensor_unsqueezed)\n",
        "print(tensor_unsqueezed.shape)"
      ]
    },
    {
      "cell_type": "markdown",
      "metadata": {
        "id": "hdB7jNaH07A-"
      },
      "source": [
        "## Broadcasting\n",
        "O broadcasting é uma técnica que permite que tensores de diferentes formas sejam utilizados juntos em operações aritméticas. Em vez de copiar dados, o PyTorch ajusta os tensores de forma automática para que tenham formas compatíveis."
      ]
    },
    {
      "cell_type": "markdown",
      "metadata": {
        "id": "qbvfciRO07A-"
      },
      "source": [
        "### Adição de um Escalar\n",
        "\n",
        "Quando adicionamos um escalar a um tensor, o escalar é automaticamente expandido para a forma do tensor:"
      ]
    },
    {
      "cell_type": "code",
      "execution_count": 31,
      "metadata": {
        "id": "dQfVhbMR07A-",
        "colab": {
          "base_uri": "https://localhost:8080/"
        },
        "outputId": "5945bb13-0f8f-4ca0-8a6e-0cf3739400ab"
      },
      "outputs": [
        {
          "output_type": "stream",
          "name": "stdout",
          "text": [
            "tensor([[11, 12, 13],\n",
            "        [14, 15, 16]])\n"
          ]
        }
      ],
      "source": [
        "# Cria um tensor 2x3\n",
        "tensor = torch.tensor([[1, 2, 3], [4, 5, 6]])\n",
        "\n",
        "# Adiciona um escalar\n",
        "scalar = 10\n",
        "\n",
        "# Broadcasting para adicionar o escalar a cada elemento do tensor\n",
        "result = tensor + scalar\n",
        "print(result)"
      ]
    },
    {
      "cell_type": "markdown",
      "metadata": {
        "id": "esKQhXgT07BE"
      },
      "source": [
        "### Adição de Tensores com Diferentes Dimensões\n",
        "\n",
        "Vamos adicionar um tensor 2x3 com um tensor 1x3. Neste caso, o tensor 1x3 será expandido (broadcasted) para uma forma 2x3:"
      ]
    },
    {
      "cell_type": "code",
      "execution_count": 32,
      "metadata": {
        "id": "Uvym6OJd07BE",
        "colab": {
          "base_uri": "https://localhost:8080/"
        },
        "outputId": "f0205572-7e27-4349-d30e-f3d96a78681f"
      },
      "outputs": [
        {
          "output_type": "stream",
          "name": "stdout",
          "text": [
            "tensor([[11, 22, 33],\n",
            "        [14, 25, 36]])\n"
          ]
        }
      ],
      "source": [
        "# Cria um tensor 2x3\n",
        "tensor_a = torch.tensor([[1, 2, 3], [4, 5, 6]])\n",
        "\n",
        "# Cria um tensor 1x3\n",
        "tensor_b = torch.tensor([10, 20, 30])\n",
        "\n",
        "# Broadcasting para adicionar tensores de diferentes formas\n",
        "result = tensor_a + tensor_b\n",
        "print(result)"
      ]
    },
    {
      "cell_type": "markdown",
      "metadata": {
        "id": "2QSp0lVw07BE"
      },
      "source": [
        "### Regras de Broadcasting\n",
        "\n",
        "Para que o broadcasting funcione, os tensores devem seguir algumas regras:\n",
        "\n",
        "1. **Compatibilidade de Dimensões**: As dimensões dos tensores devem ser compatíveis. Duas dimensões são compatíveis se forem iguais ou se uma delas for 1.\n",
        "2. **Expansão Automática**: Se uma dimensão de um tensor for 1, ela será expandida para corresponder à dimensão do outro tensor.\n",
        "\n",
        "No exemplo a seguir, o tensor `tensor_c` de forma 2x1 é expandido para 2x3, e o tensor `tensor_d` de forma 1x3 é expandido para 2x3. O resultado é um tensor 2x3 onde cada elemento é o produto dos elementos correspondentes."
      ]
    },
    {
      "cell_type": "code",
      "execution_count": 33,
      "metadata": {
        "id": "4sRpko4V07BE",
        "colab": {
          "base_uri": "https://localhost:8080/"
        },
        "outputId": "05cae289-fe3c-4e22-de0e-9d01e98234e1"
      },
      "outputs": [
        {
          "output_type": "stream",
          "name": "stdout",
          "text": [
            "tensor([[10, 20, 30],\n",
            "        [20, 40, 60]])\n"
          ]
        }
      ],
      "source": [
        "# Cria um tensor 2x1\n",
        "tensor_c = torch.tensor([[1], [2]])\n",
        "\n",
        "# Cria um tensor 1x3\n",
        "tensor_d = torch.tensor([10, 20, 30])\n",
        "\n",
        "# Broadcasting para multiplicar tensores de diferentes formas\n",
        "result = tensor_c * tensor_d\n",
        "print(result)"
      ]
    },
    {
      "cell_type": "markdown",
      "metadata": {
        "id": "6M1BzNI407BE"
      },
      "source": [
        "## Operações de Redução em PyTorch\n",
        "\n",
        "As operações de redução são usadas para reduzir as dimensões de um tensor, aplicando operações como soma, média, mínimo e máximo. Essas operações são fundamentais em várias aplicações de machine learning e deep learning."
      ]
    },
    {
      "cell_type": "code",
      "execution_count": 34,
      "metadata": {
        "id": "0PvifaWh07BE",
        "colab": {
          "base_uri": "https://localhost:8080/"
        },
        "outputId": "fb90deff-ed5d-4f0b-9b23-8e8dda41ecf3"
      },
      "outputs": [
        {
          "output_type": "stream",
          "name": "stdout",
          "text": [
            "Tensor original:\n",
            " tensor([[1., 2., 3.],\n",
            "        [4., 5., 6.]])\n",
            "torch.Size([2, 3])\n"
          ]
        }
      ],
      "source": [
        "# Cria um tensor 2x3\n",
        "tensor = torch.tensor([[1.0, 2.0, 3.0], [4.0, 5.0, 6.0]])\n",
        "print(\"Tensor original:\\n\", tensor)\n",
        "print(tensor.shape)"
      ]
    },
    {
      "cell_type": "markdown",
      "metadata": {
        "id": "xOf2kxVZ07BE"
      },
      "source": [
        "### Soma de Todos os Elementos\n",
        "\n",
        "A função `torch.sum` calcula a soma de todos os elementos do tensor:"
      ]
    },
    {
      "cell_type": "code",
      "execution_count": 35,
      "metadata": {
        "id": "6a2rjs2V07BF",
        "colab": {
          "base_uri": "https://localhost:8080/"
        },
        "outputId": "c88fa0c6-1f20-4ea1-8c5c-279a36f8a470"
      },
      "outputs": [
        {
          "output_type": "stream",
          "name": "stdout",
          "text": [
            "Soma de todos os elementos: 21.0\n"
          ]
        }
      ],
      "source": [
        "# Soma de todos os elementos do tensor\n",
        "sum_all = torch.sum(tensor)\n",
        "print(\"Soma de todos os elementos:\", sum_all.item())"
      ]
    },
    {
      "cell_type": "markdown",
      "metadata": {
        "id": "XJmUgc8X07BF"
      },
      "source": [
        "### Soma ao Longo de um Eixo\n",
        "\n",
        "Podemos calcular a soma ao longo de um eixo específico, usando o parâmetro `dim`:"
      ]
    },
    {
      "cell_type": "code",
      "execution_count": 36,
      "metadata": {
        "id": "6uSQIyba07BF",
        "colab": {
          "base_uri": "https://localhost:8080/"
        },
        "outputId": "179f6995-ec9e-4c31-b37b-7bfa03e74052"
      },
      "outputs": [
        {
          "output_type": "stream",
          "name": "stdout",
          "text": [
            "Soma ao longo do eixo 0 (linhas): tensor([5., 7., 9.])\n",
            "torch.Size([3])\n"
          ]
        }
      ],
      "source": [
        "# Soma ao longo do eixo 0 (linhas)\n",
        "sum_dim0 = torch.sum(tensor, axis=0)\n",
        "print(\"Soma ao longo do eixo 0 (linhas):\", sum_dim0)\n",
        "print(sum_dim0.shape)"
      ]
    },
    {
      "cell_type": "code",
      "execution_count": 37,
      "metadata": {
        "id": "Lu8WLmdE07BG",
        "colab": {
          "base_uri": "https://localhost:8080/"
        },
        "outputId": "abd76e46-2bac-428c-9e26-f8f5acb114ea"
      },
      "outputs": [
        {
          "output_type": "stream",
          "name": "stdout",
          "text": [
            "Soma ao longo do eixo 1 (colunas): tensor([ 6., 15.])\n",
            "torch.Size([2])\n"
          ]
        }
      ],
      "source": [
        "# Soma ao longo do eixo 1 (colunas)\n",
        "sum_dim1 = torch.sum(tensor, dim=1)\n",
        "print(\"Soma ao longo do eixo 1 (colunas):\", sum_dim1)\n",
        "print(sum_dim1.shape)"
      ]
    },
    {
      "cell_type": "markdown",
      "metadata": {
        "id": "1GG67KDk07BG"
      },
      "source": [
        "### Média dos Elementos\n",
        "\n",
        "A função `torch.mean` calcula a média dos elementos do tensor:"
      ]
    },
    {
      "cell_type": "code",
      "execution_count": 38,
      "metadata": {
        "id": "5KDkiyBo07BG",
        "colab": {
          "base_uri": "https://localhost:8080/"
        },
        "outputId": "faf39e13-ce3a-489b-8ba1-715abeed109c"
      },
      "outputs": [
        {
          "output_type": "stream",
          "name": "stdout",
          "text": [
            "Média de todos os elementos: 3.5\n"
          ]
        }
      ],
      "source": [
        "# Média de todos os elementos do tensor\n",
        "mean_all = torch.mean(tensor)\n",
        "print(\"Média de todos os elementos:\", mean_all.item())"
      ]
    },
    {
      "cell_type": "code",
      "execution_count": 39,
      "metadata": {
        "id": "aA8Y3LUW07BG",
        "colab": {
          "base_uri": "https://localhost:8080/"
        },
        "outputId": "1b70b098-f517-448c-b314-e7d6ad78106d"
      },
      "outputs": [
        {
          "output_type": "stream",
          "name": "stdout",
          "text": [
            "Média ao longo do eixo 0 (linhas): tensor([2.5000, 3.5000, 4.5000])\n",
            "torch.Size([3])\n"
          ]
        }
      ],
      "source": [
        "# Média ao longo do eixo 0 (linhas)\n",
        "mean_dim0 = torch.mean(tensor, dim=0)\n",
        "print(\"Média ao longo do eixo 0 (linhas):\", mean_dim0)\n",
        "print(mean_dim0.shape)"
      ]
    },
    {
      "cell_type": "code",
      "execution_count": 40,
      "metadata": {
        "id": "60oxhV4l07BG",
        "colab": {
          "base_uri": "https://localhost:8080/"
        },
        "outputId": "0e99b300-3fa4-41e7-c045-d753a72afec3"
      },
      "outputs": [
        {
          "output_type": "stream",
          "name": "stdout",
          "text": [
            "Média ao longo do eixo 1 (colunas): tensor([2., 5.])\n",
            "torch.Size([2])\n"
          ]
        }
      ],
      "source": [
        "# Média ao longo do eixo 1 (colunas)\n",
        "mean_dim1 = torch.mean(tensor, dim=1)\n",
        "print(\"Média ao longo do eixo 1 (colunas):\", mean_dim1)\n",
        "print(mean_dim1.shape)"
      ]
    },
    {
      "cell_type": "markdown",
      "metadata": {
        "id": "Z3UAs46q07BG"
      },
      "source": [
        "### Valor Mínimo e Máximo\n",
        "\n",
        "Podemos encontrar o valor mínimo e máximo de um tensor usando `torch.min` e `torch.max`:"
      ]
    },
    {
      "cell_type": "code",
      "execution_count": 41,
      "metadata": {
        "id": "wDmMXdPi07BG",
        "colab": {
          "base_uri": "https://localhost:8080/"
        },
        "outputId": "eb2672a5-134c-4257-cc67-75d32f1654ff"
      },
      "outputs": [
        {
          "output_type": "stream",
          "name": "stdout",
          "text": [
            "Valor mínimo de todos os elementos: tensor(1.)\n",
            "\n",
            "Valor máximo de todos os elementos: tensor(6.)\n",
            "\n",
            "Valor mínimo ao longo do eixo 0 (linhas): tensor([1., 2., 3.])\n",
            "Índices dos valores mínimos ao longo do eixo 0 (linhas): tensor([0, 0, 0])\n",
            "\n",
            "Valor máximo ao longo do eixo 1 (colunas): tensor([3., 6.])\n",
            "Índices dos valores máximos ao longo do eixo 1 (colunas): tensor([2, 2])\n"
          ]
        }
      ],
      "source": [
        "# Valor mínimo de todos os elementos do tensor\n",
        "min_all = torch.min(tensor)\n",
        "print(\"Valor mínimo de todos os elementos:\", min_all)\n",
        "print()\n",
        "\n",
        "# Valor máximo de todos os elementos do tensor\n",
        "max_all = torch.max(tensor)\n",
        "print(\"Valor máximo de todos os elementos:\", max_all)\n",
        "print()\n",
        "\n",
        "# Valor mínimo ao longo do eixo 0 (linhas)\n",
        "min_dim0, min_indices_dim0 = torch.min(tensor, dim=0)\n",
        "print(\"Valor mínimo ao longo do eixo 0 (linhas):\", min_dim0)\n",
        "print(\"Índices dos valores mínimos ao longo do eixo 0 (linhas):\", min_indices_dim0)\n",
        "print()\n",
        "\n",
        "# Valor máximo ao longo do eixo 1 (colunas)\n",
        "max_dim1, max_indices_dim1 = torch.max(tensor, dim=1)\n",
        "print(\"Valor máximo ao longo do eixo 1 (colunas):\", max_dim1)\n",
        "print(\"Índices dos valores máximos ao longo do eixo 1 (colunas):\", max_indices_dim1)"
      ]
    },
    {
      "cell_type": "markdown",
      "metadata": {
        "id": "HbPrjjqs07BG"
      },
      "source": [
        "### Produto dos Elementos\n",
        "\n",
        "A função `torch.prod` calcula o produto de todos os elementos do tensor:"
      ]
    },
    {
      "cell_type": "code",
      "execution_count": 42,
      "metadata": {
        "id": "fGv5Uh6a07BH",
        "colab": {
          "base_uri": "https://localhost:8080/"
        },
        "outputId": "504a1877-40b1-42dc-9e94-47e0339b0f8f"
      },
      "outputs": [
        {
          "output_type": "stream",
          "name": "stdout",
          "text": [
            "Produto de todos os elementos: tensor(720.)\n",
            "\n",
            "Produto ao longo do eixo 0 (linhas): tensor([ 4., 10., 18.])\n",
            "\n",
            "Produto ao longo do eixo 1 (colunas): tensor([  6., 120.])\n"
          ]
        }
      ],
      "source": [
        "# Produto de todos os elementos do tensor\n",
        "prod_all = torch.prod(tensor)\n",
        "print(\"Produto de todos os elementos:\", prod_all)\n",
        "print()\n",
        "\n",
        "# Produto ao longo do eixo 0 (linhas)\n",
        "prod_dim0 = torch.prod(tensor, dim=0)\n",
        "print(\"Produto ao longo do eixo 0 (linhas):\", prod_dim0)\n",
        "print()\n",
        "\n",
        "# Produto ao longo do eixo 1 (colunas)\n",
        "prod_dim1 = torch.prod(tensor, dim=1)\n",
        "print(\"Produto ao longo do eixo 1 (colunas):\", prod_dim1)"
      ]
    },
    {
      "cell_type": "markdown",
      "metadata": {
        "id": "MJ_kpvAk07BH"
      },
      "source": [
        "## Propriedade requires_grad\n",
        "A propriedade `requires_grad` em PyTorch é fundamental para a construção e treinamento de redes neurais, pois permite calcular automaticamente os gradientes das operações. Quando `requires_grad` é definido como `True` em um tensor, todas as operações feitas nesse tensor serão rastreadas para a diferenciação automática.\n",
        "\n",
        "### Autograd e Grafos Computacionais\n",
        "\n",
        "Autograd é um componente essencial em frameworks de deep learning como PyTorch, que permite a diferenciação automática de tensores. Este mecanismo é fundamental para a otimização dos modelos de aprendizado de máquina, pois permite calcular gradientes de forma eficiente, necessária para o ajuste dos parâmetros do modelo durante o treinamento.\n",
        "\n",
        "#### Grafos Computacionais\n",
        "\n",
        "Para entender o funcionamento do autograd, é importante compreender os grafos computacionais. Um grafo computacional é uma representação gráfica de uma sequência de operações matemáticas, onde:\n",
        "\n",
        "- **Nós (nodes)** representam operações matemáticas ou variáveis.\n",
        "- **Arestas (edges)** representam os fluxos de dados (tensores) entre as operações.\n",
        "\n",
        "![alt text](https://miro.medium.com/max/908/1*ahiviCqq6B0R_XWBmgvHkA.png \"Grafo Computacional\")\n",
        "\n",
        "Durante a construção de um modelo, as operações realizadas nos tensores criam um grafo computacional dinâmico, também conhecido como *Dynamic Computation Graph*. Esse grafo é dinâmico porque é construído à medida que as operações são executadas, permitindo flexibilidade e facilidade na criação e modificação de modelos.\n",
        "\n",
        "#### Propagação para Frente (Forward Pass)\n",
        "\n",
        "Durante a propagação para frente (forward pass), os tensores são passados através das operações definidas no grafo computacional, produzindo uma saída. Este processo é usado para calcular a perda (loss) do modelo.\n",
        "\n",
        "#### Propagação para Trás (Backward Pass)\n",
        "\n",
        "A propagação para trás (backward pass) é o processo de calcular os gradientes dos tensores em relação à perda, utilizando a regra da cadeia. O autograd facilita essa tarefa, realizando automaticamente a diferenciação reversa ao longo do grafo computacional. Os passos são:\n",
        "\n",
        "1. **Calcula a perda**: A partir das saídas do forward pass.\n",
        "2. **Calcula os gradientes**: Utilizando a diferenciação automática.\n",
        "3. **Atualiza os parâmetros**: Os gradientes calculados são usados para ajustar os parâmetros do modelo através de otimização, como o gradiente descendente."
      ]
    },
    {
      "cell_type": "markdown",
      "metadata": {
        "id": "zVsrVJxJ07BH"
      },
      "source": [
        "### Criando Tensores com `requires_grad`\n",
        "\n",
        "Vamos criar tensores com a propriedade `requires_grad` definida como `True`:"
      ]
    },
    {
      "cell_type": "code",
      "execution_count": 43,
      "metadata": {
        "id": "b2VFgj9s07BH",
        "colab": {
          "base_uri": "https://localhost:8080/"
        },
        "outputId": "33e51015-3f9f-4faf-feb9-4b899cd636cd"
      },
      "outputs": [
        {
          "output_type": "stream",
          "name": "stdout",
          "text": [
            "tensor([1., 2., 3.], requires_grad=True)\n"
          ]
        }
      ],
      "source": [
        "# Tensor com requires_grad\n",
        "x = torch.tensor([1.0, 2.0, 3.0], requires_grad=True)\n",
        "print(x)"
      ]
    },
    {
      "cell_type": "markdown",
      "metadata": {
        "id": "G6ZQtwhW07BH"
      },
      "source": [
        "### Realizando Operações com Tensores que Têm `requires_grad`\n",
        "\n",
        "Quando realizamos operações com tensores que têm `requires_grad=True`, o PyTorch cria uma tape (fita) para rastrear todas as operações. Vamos ver um exemplo:"
      ]
    },
    {
      "cell_type": "code",
      "execution_count": 44,
      "metadata": {
        "id": "mhLwmAcf07BH",
        "colab": {
          "base_uri": "https://localhost:8080/"
        },
        "outputId": "3f42cb97-5220-4778-ff29-b7803bd8ca9f"
      },
      "outputs": [
        {
          "output_type": "stream",
          "name": "stdout",
          "text": [
            "tensor(14., grad_fn=<SumBackward0>)\n"
          ]
        }
      ],
      "source": [
        "# Realiza uma operação com o tensor x\n",
        "y = x ** 2\n",
        "\n",
        "# Mais uma operação\n",
        "z = y.sum()\n",
        "\n",
        "print(z)"
      ]
    },
    {
      "cell_type": "markdown",
      "metadata": {
        "id": "nBLCBCdL07BI"
      },
      "source": [
        "### Calculando Gradientes\n",
        "\n",
        "Para calcular os gradientes, usamos o método `backward()`. Isso calcula o gradiente da função de perda em relação a todos os tensores que têm `requires_grad=True`.\n",
        "\n",
        "Os gradientes armazenados em `x.grad` representam a derivada da soma `z` em relação a `x`. Como `z` é a soma dos elementos de `y` e `y = x ** 2`, a derivada de `z` em relação a `x` é `2 * x`."
      ]
    },
    {
      "cell_type": "code",
      "execution_count": 45,
      "metadata": {
        "id": "TrdlVx7B07BI",
        "colab": {
          "base_uri": "https://localhost:8080/"
        },
        "outputId": "45722eb8-f5d8-42e9-aaa0-2600d757fce8"
      },
      "outputs": [
        {
          "output_type": "stream",
          "name": "stdout",
          "text": [
            "tensor([2., 4., 6.])\n"
          ]
        }
      ],
      "source": [
        "# Calcula os gradientes\n",
        "z.backward()\n",
        "\n",
        "# z = x1² + x2² + x3²\n",
        "# dz/x1 = 2x1\n",
        "\n",
        "# Imprime os gradientes armazenados em x.grad\n",
        "print(x.grad)"
      ]
    },
    {
      "cell_type": "markdown",
      "metadata": {
        "id": "x1HG0Av107BI"
      },
      "source": [
        "### Desativando o Rastreamento de Gradientes\n",
        "\n",
        "Em algumas situações, não queremos rastrear as operações, como durante a inferência do modelo. Podemos desativar temporariamente o rastreamento de gradientes usando `torch.no_grad()` ou `detach()`. Vamos ver como:"
      ]
    },
    {
      "cell_type": "code",
      "execution_count": 46,
      "metadata": {
        "id": "Z7mC6K_U07BJ",
        "colab": {
          "base_uri": "https://localhost:8080/"
        },
        "outputId": "cc67dc11-a6c4-466c-ca65-cc2e63f58751"
      },
      "outputs": [
        {
          "output_type": "stream",
          "name": "stdout",
          "text": [
            "False\n",
            "False\n"
          ]
        }
      ],
      "source": [
        "# Desativando o rastreamento de gradientes temporariamente\n",
        "with torch.no_grad():\n",
        "    y = x * 2\n",
        "    print(y.requires_grad)  # False, pois o rastreamento está desativado\n",
        "\n",
        "# Criando um novo tensor sem rastreamento de gradientes\n",
        "x_detached = x.detach()\n",
        "print(x_detached.requires_grad)  # False, pois o tensor foi separado da tape de computação"
      ]
    },
    {
      "cell_type": "markdown",
      "metadata": {
        "id": "jn22E_fy07BJ"
      },
      "source": [
        "### Verificando se um Tensor Requer Gradiente\n",
        "\n",
        "Podemos verificar se um tensor requer gradiente usando a propriedade `requires_grad`:"
      ]
    },
    {
      "cell_type": "code",
      "execution_count": 47,
      "metadata": {
        "id": "QHw0wzEX07BJ",
        "colab": {
          "base_uri": "https://localhost:8080/"
        },
        "outputId": "fd640da9-40bf-40cf-e85a-c1a2bbc98ef4"
      },
      "outputs": [
        {
          "output_type": "stream",
          "name": "stdout",
          "text": [
            "True\n",
            "False\n"
          ]
        }
      ],
      "source": [
        "print(x.requires_grad)  # True, pois x foi criado com requires_grad=True\n",
        "print(x_detached.requires_grad)  # False, pois x_detached foi separado da tape de computação"
      ]
    },
    {
      "cell_type": "markdown",
      "metadata": {
        "id": "hnJIsB6T07BJ"
      },
      "source": [
        "## Exercícios - PyTorch Básico"
      ]
    },
    {
      "cell_type": "markdown",
      "metadata": {
        "id": "1yzh8Spw07BJ"
      },
      "source": [
        "### Exercício 1: Criação de Tensores\n",
        "\n",
        "1. Crie um tensor 1D com os valores de 1 a 10.\n",
        "2. Crie um tensor 2D de forma (3, 3) com valores aleatórios.\n",
        "3. Crie um tensor 3D de forma (2, 3, 4) com todos os valores iguais a 1.\n",
        "4. Crie um tensor de zeros com as mesmas dimensões do tensor 2D criado no exercício 2.\n",
        "5. Crie um tensor de uns com as mesmas dimensões do tensor 3D criado no exercício 3."
      ]
    },
    {
      "cell_type": "code",
      "execution_count": 48,
      "metadata": {
        "id": "JKd8GKCa07BJ",
        "colab": {
          "base_uri": "https://localhost:8080/"
        },
        "outputId": "eafbfa96-00a4-4825-d603-d8d6d58b877e"
      },
      "outputs": [
        {
          "output_type": "stream",
          "name": "stdout",
          "text": [
            "Tensor 1D:\n",
            " tensor([ 1,  2,  3,  4,  5,  6,  7,  8,  9, 10])\n",
            "\n",
            "Tensor 2D:\n",
            " tensor([[0.2708, 0.1891, 0.1628],\n",
            "        [0.8590, 0.7822, 0.7664],\n",
            "        [0.1154, 0.8659, 0.3774]])\n",
            "\n",
            "Tensor 3D:\n",
            " tensor([[[1., 1., 1., 1.],\n",
            "         [1., 1., 1., 1.],\n",
            "         [1., 1., 1., 1.]],\n",
            "\n",
            "        [[1., 1., 1., 1.],\n",
            "         [1., 1., 1., 1.],\n",
            "         [1., 1., 1., 1.]]])\n",
            "\n",
            "Tensor de Zeros:\n",
            " tensor([[0., 0., 0.],\n",
            "        [0., 0., 0.],\n",
            "        [0., 0., 0.]])\n",
            "\n",
            "Tensor de Uns:\n",
            " tensor([[[1., 1., 1., 1.],\n",
            "         [1., 1., 1., 1.],\n",
            "         [1., 1., 1., 1.]],\n",
            "\n",
            "        [[1., 1., 1., 1.],\n",
            "         [1., 1., 1., 1.],\n",
            "         [1., 1., 1., 1.]]])\n"
          ]
        }
      ],
      "source": [
        "# 1. Tensor 1D com valores de 1 a 10\n",
        "tensor_1d = torch.arange(1, 11)\n",
        "\n",
        "# 2. Tensor 2D de forma (3, 3) com valores aleatórios\n",
        "tensor_2d = torch.rand(3, 3)\n",
        "\n",
        "# 3. Tensor 3D de forma (2, 3, 4) com todos os valores iguais a 1\n",
        "tensor_3d = torch.ones(2, 3, 4)\n",
        "\n",
        "# 4. Tensor de zeros com as mesmas dimensões do tensor 2D\n",
        "tensor_zeros = torch.zeros_like(tensor_2d)\n",
        "\n",
        "# 5. Tensor de uns com as mesmas dimensões do tensor 3D\n",
        "tensor_ones = torch.ones_like(tensor_3d)\n",
        "\n",
        "# Exibindo os resultados\n",
        "print(\"Tensor 1D:\\n\", tensor_1d)\n",
        "print(\"\\nTensor 2D:\\n\", tensor_2d)\n",
        "print(\"\\nTensor 3D:\\n\", tensor_3d)\n",
        "print(\"\\nTensor de Zeros:\\n\", tensor_zeros)\n",
        "print(\"\\nTensor de Uns:\\n\", tensor_ones)"
      ]
    },
    {
      "cell_type": "markdown",
      "metadata": {
        "id": "OFtenl6O07BK"
      },
      "source": [
        "### Exercício 2: Manipulação de Tensores\n",
        "\n",
        "1. Dado o tensor `a = torch.tensor([[1, 2], [3, 4], [5, 6]])`, obtenha a primeira coluna.\n",
        "2. Dado o tensor `b = torch.tensor([[[1, 2, 3], [4, 5, 6]], [[7, 8, 9], [10, 11, 12]]])`, obtenha o subtensor `[[7, 8, 9], [10, 11, 12]]`.\n",
        "3. Dado o tensor `c = torch.tensor([1, 2, 3, 4, 5, 6])`, mude sua forma para (2, 3).\n",
        "4. Dado o tensor `d = torch.tensor([1, 2, 3, 4, 5, 6])`, adicione uma dimensão extra para que ele se torne de forma (1, 6)."
      ]
    },
    {
      "cell_type": "code",
      "execution_count": 50,
      "metadata": {
        "id": "zhmCaHB-07BK",
        "colab": {
          "base_uri": "https://localhost:8080/"
        },
        "outputId": "8beab136-f130-44cc-97f3-06e2dd3e5272"
      },
      "outputs": [
        {
          "output_type": "stream",
          "name": "stdout",
          "text": [
            "Primeira coluna de a:\n",
            "tensor([1, 3, 5])\n",
            "\n",
            "Subtensor de b:\n",
            "tensor([[ 7,  8,  9],\n",
            "        [10, 11, 12]])\n",
            "\n",
            "Tensor c com forma (2, 3):\n",
            "tensor([[1, 2, 3],\n",
            "        [4, 5, 6]])\n",
            "\n",
            "Tensor d com forma (1, 6):\n",
            "tensor([[1, 2, 3, 4, 5, 6]])\n"
          ]
        }
      ],
      "source": [
        "# Primeiro tensor: Obter a primeira coluna\n",
        "a = torch.tensor([[1, 2], [3, 4], [5, 6]])\n",
        "primeira_coluna = a[:, 0]\n",
        "print(\"Primeira coluna de a:\")\n",
        "print(primeira_coluna)\n",
        "\n",
        "# Segundo tensor: Obter o subtensor [[7, 8, 9], [10, 11, 12]]\n",
        "b = torch.tensor([[[1, 2, 3], [4, 5, 6]], [[7, 8, 9], [10, 11, 12]]])\n",
        "subtensor = b[1, :, :]\n",
        "print(\"\\nSubtensor de b:\")\n",
        "print(subtensor)\n",
        "\n",
        "# Terceiro tensor: Mudar a forma para (2, 3)\n",
        "c = torch.tensor([1, 2, 3, 4, 5, 6])\n",
        "c_reshape = c.view(2, 3)\n",
        "print(\"\\nTensor c com forma (2, 3):\")\n",
        "print(c_reshape)\n",
        "\n",
        "# Quarto tensor: Adicionar uma dimensão extra para que ele se torne de forma (1, 6)\n",
        "d = torch.tensor([1, 2, 3, 4, 5, 6])\n",
        "d_unsqueeze = d.unsqueeze(0)\n",
        "print(\"\\nTensor d com forma (1, 6):\")\n",
        "print(d_unsqueeze)"
      ]
    },
    {
      "cell_type": "markdown",
      "metadata": {
        "id": "0_39wMQ-07BK"
      },
      "source": [
        "### Exercício 3: Funções de Criação de Tensores\n",
        "\n",
        "1. Crie um tensor contendo valores de 0 a 1, espaçados igualmente em 5 passos.\n",
        "2. Crie um tensor contendo valores de 0 a 10, com um passo de 2.\n",
        "3. Crie um tensor de forma (3, 3) com valores aleatórios entre 0 e 10.\n",
        "4. Crie um tensor correspondente a uma imagem em escala de cinza de dimensões 128x128 com valores aleatórios entre 0 e 255.\n",
        "5. Crie um tensor correspondente a uma imagem em RGB de dimensões 128x128 com valores aleatórios entre 0 e 255."
      ]
    },
    {
      "cell_type": "code",
      "execution_count": 51,
      "metadata": {
        "id": "l8R19EaQ07BK",
        "colab": {
          "base_uri": "https://localhost:8080/"
        },
        "outputId": "95e31c6a-d802-4429-bc3b-f85436c1e39d"
      },
      "outputs": [
        {
          "output_type": "stream",
          "name": "stdout",
          "text": [
            "Tensor de 0 a 1, 5 passos:\n",
            "tensor([0.0000, 0.2500, 0.5000, 0.7500, 1.0000])\n",
            "\n",
            "Tensor de 0 a 10, passo 2:\n",
            "tensor([ 0,  2,  4,  6,  8, 10])\n",
            "\n",
            "Tensor 3x3 com valores aleatórios entre 0 e 10:\n",
            "tensor([[10.,  7.,  2.],\n",
            "        [ 4., 10.,  4.],\n",
            "        [ 6.,  5.,  9.]])\n",
            "\n",
            "Tensor de imagem em escala de cinza 128x128:\n",
            "tensor([[ 16, 232,  99,  ..., 131,  34,  83],\n",
            "        [199, 143,  80,  ...,  11, 149,  24],\n",
            "        [ 39, 169, 223,  ...,  62, 250, 183],\n",
            "        ...,\n",
            "        [118, 149, 103,  ..., 199,  23, 206],\n",
            "        [110, 178, 138,  ..., 239,  98, 118],\n",
            "        [163, 115, 140,  ...,  41, 208, 182]], dtype=torch.uint8)\n",
            "\n",
            "Tensor de imagem em RGB 128x128:\n",
            "tensor([[[103, 136,  28,  ..., 153, 116, 110],\n",
            "         [102, 106, 142,  ...,  68,  92, 204],\n",
            "         [104, 222,  56,  ...,  44,  62, 128],\n",
            "         ...,\n",
            "         [241,  46, 226,  ...,  75, 201, 104],\n",
            "         [163, 187, 189,  ...,  87,  99,  40],\n",
            "         [116,  15, 180,  ...,  51,  28, 172]],\n",
            "\n",
            "        [[ 46, 248, 255,  ...,  89,  91, 110],\n",
            "         [  1,  82, 228,  ..., 138,  38, 155],\n",
            "         [ 52, 126, 252,  ..., 144, 178, 139],\n",
            "         ...,\n",
            "         [ 27, 107, 185,  ..., 245,  36, 230],\n",
            "         [183,   9, 232,  ..., 237,   3,  52],\n",
            "         [ 17, 184, 138,  ...,   1, 225,  25]],\n",
            "\n",
            "        [[ 82, 142,  28,  ...,  18,  95, 222],\n",
            "         [220, 121, 244,  ..., 231,  10,  38],\n",
            "         [150,  83,  64,  ...,  94,  81,  21],\n",
            "         ...,\n",
            "         [ 33, 100, 254,  ..., 109,  83, 102],\n",
            "         [138, 255, 155,  ...,  87, 183,  17],\n",
            "         [166, 204, 115,  ..., 192,  46, 104]]], dtype=torch.uint8)\n"
          ]
        }
      ],
      "source": [
        "# Tensor contendo valores de 0 a 1, espaçados igualmente em 5 passos\n",
        "tensor_0_a_1 = torch.linspace(0, 1, steps=5)\n",
        "print(\"Tensor de 0 a 1, 5 passos:\")\n",
        "print(tensor_0_a_1)\n",
        "\n",
        "# Tensor contendo valores de 0 a 10, com um passo de 2\n",
        "tensor_0_a_10 = torch.arange(0, 11, step=2)\n",
        "print(\"\\nTensor de 0 a 10, passo 2:\")\n",
        "print(tensor_0_a_10)\n",
        "\n",
        "# Tensor de forma (3, 3) com valores aleatórios entre 0 e 10\n",
        "tensor_aleatorio_3x3 = torch.randint(0, 11, (3, 3), dtype=torch.float32)\n",
        "print(\"\\nTensor 3x3 com valores aleatórios entre 0 e 10:\")\n",
        "print(tensor_aleatorio_3x3)\n",
        "\n",
        "# Tensor correspondente a uma imagem em escala de cinza de dimensões 128x128 com valores aleatórios entre 0 e 255\n",
        "imagem_cinza = torch.randint(0, 256, (128, 128), dtype=torch.uint8)\n",
        "print(\"\\nTensor de imagem em escala de cinza 128x128:\")\n",
        "print(imagem_cinza)\n",
        "\n",
        "# Tensor correspondente a uma imagem em RGB de dimensões 128x128 com valores aleatórios entre 0 e 255\n",
        "imagem_rgb = torch.randint(0, 256, (3, 128, 128), dtype=torch.uint8)\n",
        "print(\"\\nTensor de imagem em RGB 128x128:\")\n",
        "print(imagem_rgb)"
      ]
    },
    {
      "cell_type": "markdown",
      "metadata": {
        "id": "ABOujBLy07BK"
      },
      "source": [
        "### Exercício 4: Operações Avançadas com Tensores\n",
        "\n",
        "1. Dado o tensor `a = torch.tensor([1, 2, 3])` e `b = torch.tensor([[4], [5], [6]])`, calcule a soma de `a` e `b` usando broadcasting.\n",
        "2. Dado o tensor `a = torch.tensor([1.0, 2.0, 3.0, 4.0])`, calcule a soma de todos os elementos.\n",
        "3. Dado o tensor `a = torch.tensor([1.0, 2.0, 3.0, 4.0])`, calcule a média de todos os elementos.\n",
        "4. Dado o tensor `a = torch.tensor([1.0, 2.0, 3.0, 4.0])`, calcule a raiz quadrada de todos os elementos."
      ]
    },
    {
      "cell_type": "code",
      "execution_count": 52,
      "metadata": {
        "id": "Ckks-pjw07BK",
        "colab": {
          "base_uri": "https://localhost:8080/"
        },
        "outputId": "f698b9a5-4d12-431f-8563-ed475fc9b5ec"
      },
      "outputs": [
        {
          "output_type": "stream",
          "name": "stdout",
          "text": [
            "Soma de a e b usando broadcasting:\n",
            "tensor([[5, 6, 7],\n",
            "        [6, 7, 8],\n",
            "        [7, 8, 9]])\n",
            "\n",
            "Soma de todos os elementos de a:\n",
            "tensor(10.)\n",
            "\n",
            "Média de todos os elementos de a:\n",
            "tensor(2.5000)\n",
            "\n",
            "Raiz quadrada de todos os elementos de a:\n",
            "tensor([1.0000, 1.4142, 1.7321, 2.0000])\n"
          ]
        }
      ],
      "source": [
        "# Soma de a e b usando broadcasting\n",
        "a = torch.tensor([1, 2, 3])\n",
        "b = torch.tensor([[4], [5], [6]])\n",
        "soma_broadcasting = a + b\n",
        "print(\"Soma de a e b usando broadcasting:\")\n",
        "print(soma_broadcasting)\n",
        "\n",
        "# Soma de todos os elementos\n",
        "a = torch.tensor([1.0, 2.0, 3.0, 4.0])\n",
        "soma_total = a.sum()\n",
        "print(\"\\nSoma de todos os elementos de a:\")\n",
        "print(soma_total)\n",
        "\n",
        "# Média de todos os elementos\n",
        "media_total = a.mean()\n",
        "print(\"\\nMédia de todos os elementos de a:\")\n",
        "print(media_total)\n",
        "\n",
        "# Raiz quadrada de todos os elementos\n",
        "raiz_quadrada = torch.sqrt(a)\n",
        "print(\"\\nRaiz quadrada de todos os elementos de a:\")\n",
        "print(raiz_quadrada)"
      ]
    },
    {
      "cell_type": "markdown",
      "metadata": {
        "id": "XzmVWwxV07BL"
      },
      "source": [
        "### Exercício 5: Autograd e Backpropagation\n",
        "\n",
        "1. Crie um tensor `x` com os valores `[2.0, 3.0]` e `requires_grad=True`. Calcule `y = x^2` e os gradientes.\n",
        "2. Crie um tensor `x` com o valor `3.0` e `requires_grad=True`. Calcule `y = 2*x + 1` e o gradiente.\n",
        "3. Crie um tensor `x` com os valores `[1.0, 2.0, 3.0]` e `requires_grad=True`. Calcule `y = x^3` e os gradientes."
      ]
    },
    {
      "cell_type": "code",
      "execution_count": 54,
      "metadata": {
        "id": "8Ux5G-4C07BL",
        "colab": {
          "base_uri": "https://localhost:8080/"
        },
        "outputId": "b08dc304-2fa4-429f-a84c-c478393b77e2"
      },
      "outputs": [
        {
          "output_type": "stream",
          "name": "stdout",
          "text": [
            "Tensor x1:\n",
            "tensor([2., 3.], requires_grad=True)\n",
            "Gradientes de y1 = x1^2:\n",
            "tensor([4., 6.])\n",
            "\n",
            "Tensor x2:\n",
            "tensor(3., requires_grad=True)\n",
            "Gradiente de y2 = 2*x2 + 1:\n",
            "tensor(2.)\n",
            "\n",
            "Tensor x3:\n",
            "tensor([1., 2., 3.], requires_grad=True)\n",
            "Gradientes de y3 = x3^3:\n",
            "tensor([ 3., 12., 27.])\n"
          ]
        }
      ],
      "source": [
        "# 1. Tensor x = [2.0, 3.0], y = x^2 e gradientes\n",
        "x1 = torch.tensor([2.0, 3.0], requires_grad=True)\n",
        "y1 = x1**2\n",
        "y1.sum().backward()\n",
        "print(\"Tensor x1:\")\n",
        "print(x1)\n",
        "print(\"Gradientes de y1 = x1^2:\")\n",
        "print(x1.grad)\n",
        "\n",
        "# 2. Tensor x = 3.0, y = 2*x + 1 e gradiente\n",
        "x2 = torch.tensor(3.0, requires_grad=True)\n",
        "y2 = 2 * x2 + 1\n",
        "y2.backward()\n",
        "print(\"\\nTensor x2:\")\n",
        "print(x2)\n",
        "print(\"Gradiente de y2 = 2*x2 + 1:\")\n",
        "print(x2.grad)\n",
        "\n",
        "# 3. Tensor x = [1.0, 2.0, 3.0], y = x^3 e gradientes\n",
        "x3 = torch.tensor([1.0, 2.0, 3.0], requires_grad=True)\n",
        "y3 = x3**3\n",
        "y3.sum().backward()\n",
        "print(\"\\nTensor x3:\")\n",
        "print(x3)\n",
        "print(\"Gradientes de y3 = x3^3:\")\n",
        "print(x3.grad)"
      ]
    },
    {
      "cell_type": "markdown",
      "metadata": {
        "id": "KVaclQwa07BL"
      },
      "source": [
        "### Exercício 6: Operações de Redução\n",
        "\n",
        "1. Crie um tensor de forma (4, 5) contendo valores de 1 a 20 usando `torch.arange`. Em seguida, calcule a soma de todos os elementos do tensor.\n",
        "\n",
        "2. Crie um tensor de forma (3, 4) com valores aleatórios entre 0 e 1 usando `torch.rand`. Calcule a média dos elementos ao longo do eixo 1 (colunas).\n",
        "\n",
        "3. Crie um tensor de forma (5, 5) contendo valores espaçados igualmente de 0 a 24 usando `torch.linspace`. Encontre o valor mínimo e o máximo de todos os elementos do tensor.\n",
        "\n",
        "4. Crie um tensor de forma (3, 6) com valores inteiros aleatórios entre 10 e 50 usando `torch.randint`. Calcule o produto dos elementos ao longo do eixo 0 (linhas).\n",
        "\n",
        "5. Crie um tensor de forma (2, 3, 4) com valores aleatórios entre 0 e 1 usando `torch.rand`. Encontre a soma dos elementos ao longo do eixo 2."
      ]
    },
    {
      "cell_type": "code",
      "execution_count": 55,
      "metadata": {
        "id": "aoDIo14L07BL",
        "colab": {
          "base_uri": "https://localhost:8080/"
        },
        "outputId": "ed5e3696-8a03-46e2-8f0b-bd2509983f6e"
      },
      "outputs": [
        {
          "output_type": "stream",
          "name": "stdout",
          "text": [
            "Tensor de forma (4, 5):\n",
            "tensor([[ 1,  2,  3,  4,  5],\n",
            "        [ 6,  7,  8,  9, 10],\n",
            "        [11, 12, 13, 14, 15],\n",
            "        [16, 17, 18, 19, 20]])\n",
            "Soma de todos os elementos:\n",
            "tensor(210)\n",
            "\n",
            "Tensor de forma (3, 4):\n",
            "tensor([[0.8404, 0.7539, 0.0303, 0.5890],\n",
            "        [0.5596, 0.3760, 0.8869, 0.3644],\n",
            "        [0.9257, 0.2900, 0.9864, 0.4171]])\n",
            "Média ao longo do eixo 1 (colunas):\n",
            "tensor([0.5534, 0.5467, 0.6548])\n",
            "\n",
            "Tensor de forma (5, 5):\n",
            "tensor([[ 0.,  1.,  2.,  3.,  4.],\n",
            "        [ 5.,  6.,  7.,  8.,  9.],\n",
            "        [10., 11., 12., 13., 14.],\n",
            "        [15., 16., 17., 18., 19.],\n",
            "        [20., 21., 22., 23., 24.]])\n",
            "Valor mínimo:\n",
            "tensor(0.)\n",
            "Valor máximo:\n",
            "tensor(24.)\n",
            "\n",
            "Tensor de forma (3, 6):\n",
            "tensor([[36, 29, 23, 37, 22, 27],\n",
            "        [32, 30, 15, 35, 39, 26],\n",
            "        [29, 17, 10, 46, 26, 33]])\n",
            "Produto dos elementos ao longo do eixo 0 (linhas):\n",
            "tensor([33408, 14790,  3450, 59570, 22308, 23166])\n",
            "\n",
            "Tensor de forma (2, 3, 4):\n",
            "tensor([[[0.7006, 0.9493, 0.0199, 0.1655],\n",
            "         [0.6641, 0.0017, 0.9619, 0.9370],\n",
            "         [0.3702, 0.6771, 0.8248, 0.9569]],\n",
            "\n",
            "        [[0.0294, 0.8188, 0.1168, 0.3831],\n",
            "         [0.0791, 0.0813, 0.2250, 0.1539],\n",
            "         [0.2911, 0.9996, 0.3830, 0.5275]]])\n",
            "Soma dos elementos ao longo do eixo 2:\n",
            "tensor([[1.8352, 2.5647, 2.8290],\n",
            "        [1.3481, 0.5393, 2.2012]])\n"
          ]
        }
      ],
      "source": [
        "# 1. Tensor de forma (4, 5) com valores de 1 a 20 e soma de todos os elementos\n",
        "tensor1 = torch.arange(1, 21).view(4, 5)\n",
        "soma_total = tensor1.sum()\n",
        "print(\"Tensor de forma (4, 5):\")\n",
        "print(tensor1)\n",
        "print(\"Soma de todos os elementos:\")\n",
        "print(soma_total)\n",
        "\n",
        "# 2. Tensor de forma (3, 4) com valores aleatórios entre 0 e 1 e média ao longo do eixo 1\n",
        "tensor2 = torch.rand(3, 4)\n",
        "media_eixo1 = tensor2.mean(dim=1)\n",
        "print(\"\\nTensor de forma (3, 4):\")\n",
        "print(tensor2)\n",
        "print(\"Média ao longo do eixo 1 (colunas):\")\n",
        "print(media_eixo1)\n",
        "\n",
        "# 3. Tensor de forma (5, 5) com valores espaçados igualmente de 0 a 24 e valores mínimo e máximo\n",
        "tensor3 = torch.linspace(0, 24, steps=25).view(5, 5)\n",
        "valor_minimo = tensor3.min()\n",
        "valor_maximo = tensor3.max()\n",
        "print(\"\\nTensor de forma (5, 5):\")\n",
        "print(tensor3)\n",
        "print(\"Valor mínimo:\")\n",
        "print(valor_minimo)\n",
        "print(\"Valor máximo:\")\n",
        "print(valor_maximo)\n",
        "\n",
        "# 4. Tensor de forma (3, 6) com valores inteiros aleatórios entre 10 e 50 e produto ao longo do eixo 0\n",
        "tensor4 = torch.randint(10, 50, (3, 6))\n",
        "produto_eixo0 = tensor4.prod(dim=0)\n",
        "print(\"\\nTensor de forma (3, 6):\")\n",
        "print(tensor4)\n",
        "print(\"Produto dos elementos ao longo do eixo 0 (linhas):\")\n",
        "print(produto_eixo0)\n",
        "\n",
        "# 5. Tensor de forma (2, 3, 4) com valores aleatórios entre 0 e 1 e soma ao longo do eixo 2\n",
        "tensor5 = torch.rand(2, 3, 4)\n",
        "soma_eixo2 = tensor5.sum(dim=2)\n",
        "print(\"\\nTensor de forma (2, 3, 4):\")\n",
        "print(tensor5)\n",
        "print(\"Soma dos elementos ao longo do eixo 2:\")\n",
        "print(soma_eixo2)"
      ]
    }
  ],
  "metadata": {
    "kernelspec": {
      "display_name": "base",
      "language": "python",
      "name": "python3"
    },
    "language_info": {
      "codemirror_mode": {
        "name": "ipython",
        "version": 3
      },
      "file_extension": ".py",
      "mimetype": "text/x-python",
      "name": "python",
      "nbconvert_exporter": "python",
      "pygments_lexer": "ipython3",
      "version": "3.10.13"
    },
    "colab": {
      "provenance": [],
      "include_colab_link": true
    }
  },
  "nbformat": 4,
  "nbformat_minor": 0
}
